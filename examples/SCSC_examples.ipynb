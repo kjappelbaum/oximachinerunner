{
 "cells": [
  {
   "cell_type": "code",
   "execution_count": 1,
   "metadata": {},
   "outputs": [],
   "source": [
    "from oximachinerunner import OximachineRunner"
   ]
  },
  {
   "cell_type": "code",
   "execution_count": 2,
   "metadata": {},
   "outputs": [],
   "source": [
    "runner_all = OximachineRunner()\n",
    "runner_mof = OximachineRunner('mof')"
   ]
  },
  {
   "cell_type": "markdown",
   "metadata": {},
   "source": [
    "## Oxygen and methanol mediated irreversible coordination polymer structural transformation from a 3D Cu(i)-framework to a 1D Cu(ii)-chain"
   ]
  },
  {
   "cell_type": "markdown",
   "metadata": {},
   "source": [
    "> Chem. Commun., __2014__, 50, 4434-4437"
   ]
  },
  {
   "cell_type": "markdown",
   "metadata": {},
   "source": [
    "For these structures, oxidation states have not been reported in the CSD"
   ]
  },
  {
   "cell_type": "code",
   "execution_count": 5,
   "metadata": {},
   "outputs": [
    {
     "data": {
      "text/plain": [
       "OrderedDict([('metal_indices', [0, 1, 2, 3]),\n",
       "             ('metal_symbols', ['Cu', 'Cu', 'Cu', 'Cu']),\n",
       "             ('prediction', [2, 2, 2, 2]),\n",
       "             ('max_probas',\n",
       "              [0.9935515666748629,\n",
       "               0.9935515666748629,\n",
       "               0.9935515666748629,\n",
       "               0.9935515666748629]),\n",
       "             ('base_predictions',\n",
       "              [[2, 2, 2, 2], [2, 2, 2, 2], [2, 2, 2, 2], [2, 2, 2, 2]])])"
      ]
     },
     "execution_count": 5,
     "metadata": {},
     "output_type": "execute_result"
    }
   ],
   "source": [
    "runner_mof.run_oximachine('scsc_examples/984135.cif')"
   ]
  },
  {
   "cell_type": "code",
   "execution_count": 9,
   "metadata": {},
   "outputs": [
    {
     "data": {
      "text/plain": [
       "OrderedDict([('metal_indices', [0, 1, 2, 3, 4, 5, 6, 7]),\n",
       "             ('metal_symbols',\n",
       "              ['Cu', 'Cu', 'Cu', 'Cu', 'Cu', 'Cu', 'Cu', 'Cu']),\n",
       "             ('prediction', [1, 1, 1, 1, 1, 1, 1, 1]),\n",
       "             ('max_probas',\n",
       "              [0.9584593725433783,\n",
       "               0.9584593725433783,\n",
       "               0.9584593725433783,\n",
       "               0.9584593725433783,\n",
       "               0.9584593725433783,\n",
       "               0.9584593725433783,\n",
       "               0.9584593725433783,\n",
       "               0.9584593725433783]),\n",
       "             ('base_predictions',\n",
       "              [[1, 1, 1, 1],\n",
       "               [1, 1, 1, 1],\n",
       "               [1, 1, 1, 1],\n",
       "               [1, 1, 1, 1],\n",
       "               [1, 1, 1, 1],\n",
       "               [1, 1, 1, 1],\n",
       "               [1, 1, 1, 1],\n",
       "               [1, 1, 1, 1]])])"
      ]
     },
     "execution_count": 9,
     "metadata": {},
     "output_type": "execute_result"
    }
   ],
   "source": [
    "runner_mof.run_oximachine('scsc_examples/984134_c2x.cif')"
   ]
  },
  {
   "cell_type": "markdown",
   "metadata": {},
   "source": [
    "## Example of a failure: Dynamic and Redox Active Pillared Bilayer Open Framework:  Single-Crystal-to-Single-Crystal Transformations upon Guest Removal, Guest Exchange, and Framework Oxidation"
   ]
  },
  {
   "cell_type": "markdown",
   "metadata": {},
   "source": [
    "> J. Am. Chem. Soc. __2004__, 126, 48, 15844–15851"
   ]
  },
  {
   "cell_type": "markdown",
   "metadata": {},
   "source": [
    "The Ni in this compound was reported to be Ni(II/III)."
   ]
  },
  {
   "cell_type": "code",
   "execution_count": 12,
   "metadata": {},
   "outputs": [
    {
     "data": {
      "text/plain": [
       "OrderedDict([('metal_indices', [0, 1, 2, 3, 4, 5]),\n",
       "             ('metal_symbols', ['Ni', 'Ni', 'Ni', 'Ni', 'Ni', 'Ni']),\n",
       "             ('prediction', [2, 2, 2, 2, 2, 2]),\n",
       "             ('max_probas',\n",
       "              [0.9985079504972261,\n",
       "               0.9985079504972261,\n",
       "               0.9985079504972261,\n",
       "               0.9985079504972261,\n",
       "               0.9985079504972261,\n",
       "               0.9985079504972261]),\n",
       "             ('base_predictions',\n",
       "              [[2, 2, 2, 2],\n",
       "               [2, 2, 2, 2],\n",
       "               [2, 2, 2, 2],\n",
       "               [2, 2, 2, 2],\n",
       "               [2, 2, 2, 2],\n",
       "               [2, 2, 2, 2]])])"
      ]
     },
     "execution_count": 12,
     "metadata": {},
     "output_type": "execute_result"
    }
   ],
   "source": [
    "runner_mof.run_oximachine('scsc_examples/228082.cif')"
   ]
  },
  {
   "cell_type": "code",
   "execution_count": null,
   "metadata": {},
   "outputs": [],
   "source": []
  }
 ],
 "metadata": {
  "kernelspec": {
   "display_name": "Python 3",
   "language": "python",
   "name": "python3"
  },
  "language_info": {
   "codemirror_mode": {
    "name": "ipython",
    "version": 3
   },
   "file_extension": ".py",
   "mimetype": "text/x-python",
   "name": "python",
   "nbconvert_exporter": "python",
   "pygments_lexer": "ipython3",
   "version": "3.8.0"
  }
 },
 "nbformat": 4,
 "nbformat_minor": 4
}
