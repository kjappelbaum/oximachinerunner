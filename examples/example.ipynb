{
 "cells": [
  {
   "cell_type": "markdown",
   "metadata": {},
   "source": [
    "# Testing the package"
   ]
  },
  {
   "cell_type": "markdown",
   "metadata": {},
   "source": [
    "`oximachinerunner` is a package that allows you to predict the oxidation states of metals in a crystal structure of a MOF."
   ]
  },
  {
   "cell_type": "code",
   "execution_count": 1,
   "metadata": {},
   "outputs": [],
   "source": [
    "from oximachinerunner import OximachineRunner"
   ]
  },
  {
   "cell_type": "markdown",
   "metadata": {},
   "source": [
    "The output of the run_oximachine function is a `OrderedDict` that contains the following fields\n",
    "\n",
    "- `metal_indices`: A list of indices of the metal sites\n",
    "- `metal_symbols`: A list of symbols of the metal atoms\n",
    "- `prediction`: A list of oxidation state predictions\n",
    "- `max_probabs`: For each metal site the maximum confidence of all 4 models.\n",
    "- `base_predictions`: For each metal site a list of the oxidation state predictions for each of the 4 models.\n"
   ]
  },
  {
   "cell_type": "code",
   "execution_count": 2,
   "metadata": {
    "tags": []
   },
   "outputs": [],
   "source": [
    "runner = OximachineRunner()"
   ]
  },
  {
   "cell_type": "markdown",
   "metadata": {},
   "source": [
    "Let's try it on a small structure"
   ]
  },
  {
   "cell_type": "code",
   "execution_count": 3,
   "metadata": {
    "tags": []
   },
   "outputs": [
    {
     "name": "stderr",
     "output_type": "stream",
     "text": [
      "featurize.py: iterating over 2 metal sites\n"
     ]
    },
    {
     "data": {
      "text/plain": [
       "([2, 2], [0, 1], ['Fe', 'Fe'])"
      ]
     },
     "execution_count": 3,
     "metadata": {},
     "output_type": "execute_result"
    }
   ],
   "source": [
    "runner.run_oximachine('../oximachinerunner/assets/ACODAA.cif')"
   ]
  },
  {
   "cell_type": "markdown",
   "metadata": {},
   "source": [
    "### MIL-47 "
   ]
  },
  {
   "cell_type": "code",
   "execution_count": 4,
   "metadata": {
    "tags": []
   },
   "outputs": [
    {
     "name": "stderr",
     "output_type": "stream",
     "text": [
      "featurize.py: iterating over 4 metal sites\n"
     ]
    },
    {
     "data": {
      "text/plain": [
       "([3, 3, 3, 3], [0, 1, 2, 3], ['V', 'V', 'V', 'V'])"
      ]
     },
     "execution_count": 4,
     "metadata": {},
     "output_type": "execute_result"
    }
   ],
   "source": [
    "runner.run_oximachine('IDIWIB_clean.cif')"
   ]
  },
  {
   "cell_type": "code",
   "execution_count": 5,
   "metadata": {
    "tags": []
   },
   "outputs": [
    {
     "name": "stderr",
     "output_type": "stream",
     "text": [
      "featurize.py: iterating over 4 metal sites\n"
     ]
    },
    {
     "data": {
      "text/plain": [
       "([4, 4, 4, 4], [0, 1, 2, 3], ['V', 'V', 'V', 'V'])"
      ]
     },
     "execution_count": 5,
     "metadata": {},
     "output_type": "execute_result"
    }
   ],
   "source": [
    "runner.run_oximachine('IDIWOH_clean.cif')"
   ]
  },
  {
   "cell_type": "markdown",
   "metadata": {},
   "source": [
    "## MOF-74 "
   ]
  },
  {
   "cell_type": "code",
   "execution_count": 8,
   "metadata": {
    "tags": []
   },
   "outputs": [
    {
     "name": "stderr",
     "output_type": "stream",
     "text": [
      "featurize.py: iterating over 18 metal sites\n"
     ]
    },
    {
     "data": {
      "text/plain": [
       "([3, 3, 3, 3, 3, 3, 3, 3, 3, 3, 3, 3, 3, 3, 3, 3, 3, 3],\n",
       " [0, 1, 2, 3, 4, 5, 6, 7, 8, 9, 10, 11, 12, 13, 14, 15, 16, 17],\n",
       " ['Fe',\n",
       "  'Fe',\n",
       "  'Fe',\n",
       "  'Fe',\n",
       "  'Fe',\n",
       "  'Fe',\n",
       "  'Fe',\n",
       "  'Fe',\n",
       "  'Fe',\n",
       "  'Fe',\n",
       "  'Fe',\n",
       "  'Fe',\n",
       "  'Fe',\n",
       "  'Fe',\n",
       "  'Fe',\n",
       "  'Fe',\n",
       "  'Fe',\n",
       "  'Fe'])"
      ]
     },
     "execution_count": 8,
     "metadata": {},
     "output_type": "execute_result"
    }
   ],
   "source": [
    "runner.run_oximachine('guvzee.cif')"
   ]
  },
  {
   "cell_type": "code",
   "execution_count": 9,
   "metadata": {
    "tags": []
   },
   "outputs": [
    {
     "name": "stderr",
     "output_type": "stream",
     "text": [
      "featurize.py: iterating over 18 metal sites\n"
     ]
    },
    {
     "data": {
      "text/plain": [
       "([2, 2, 2, 2, 2, 2, 2, 2, 2, 2, 2, 2, 2, 2, 2, 2, 2, 2],\n",
       " [0, 1, 2, 3, 4, 5, 6, 7, 8, 9, 10, 11, 12, 13, 14, 15, 16, 17],\n",
       " ['Fe',\n",
       "  'Fe',\n",
       "  'Fe',\n",
       "  'Fe',\n",
       "  'Fe',\n",
       "  'Fe',\n",
       "  'Fe',\n",
       "  'Fe',\n",
       "  'Fe',\n",
       "  'Fe',\n",
       "  'Fe',\n",
       "  'Fe',\n",
       "  'Fe',\n",
       "  'Fe',\n",
       "  'Fe',\n",
       "  'Fe',\n",
       "  'Fe',\n",
       "  'Fe'])"
      ]
     },
     "execution_count": 9,
     "metadata": {},
     "output_type": "execute_result"
    }
   ],
   "source": [
    "runner.run_oximachine('GUVZII_clean.cif')"
   ]
  },
  {
   "cell_type": "markdown",
   "metadata": {},
   "source": [
    "## Cu(I,II)-BTC"
   ]
  },
  {
   "cell_type": "code",
   "execution_count": 10,
   "metadata": {
    "tags": []
   },
   "outputs": [
    {
     "name": "stderr",
     "output_type": "stream",
     "text": [
      "featurize.py: iterating over 16 metal sites\n"
     ]
    },
    {
     "data": {
      "text/plain": [
       "([1, 1, 1, 1, 1, 1, 1, 1, 2, 2, 2, 2, 2, 2, 2, 2],\n",
       " [0, 1, 2, 3, 4, 5, 6, 7, 8, 9, 10, 11, 12, 13, 14, 15],\n",
       " ['Cu',\n",
       "  'Cu',\n",
       "  'Cu',\n",
       "  'Cu',\n",
       "  'Cu',\n",
       "  'Cu',\n",
       "  'Cu',\n",
       "  'Cu',\n",
       "  'Cu',\n",
       "  'Cu',\n",
       "  'Cu',\n",
       "  'Cu',\n",
       "  'Cu',\n",
       "  'Cu',\n",
       "  'Cu',\n",
       "  'Cu'])"
      ]
     },
     "execution_count": 10,
     "metadata": {},
     "output_type": "execute_result"
    }
   ],
   "source": [
    "runner.run_oximachine('../oximachinerunner/assets/KAJZIH_freeONLY.cif')"
   ]
  }
 ],
 "metadata": {
  "kernelspec": {
   "display_name": "Python 3",
   "language": "python",
   "name": "python3"
  },
  "language_info": {
   "codemirror_mode": {
    "name": "ipython",
    "version": 3
   },
   "file_extension": ".py",
   "mimetype": "text/x-python",
   "name": "python",
   "nbconvert_exporter": "python",
   "pygments_lexer": "ipython3",
   "version": "3.8.0"
  }
 },
 "nbformat": 4,
 "nbformat_minor": 4
}
